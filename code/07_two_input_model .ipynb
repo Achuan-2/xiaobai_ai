{
 "cells": [
  {
   "cell_type": "code",
   "execution_count": 13,
   "metadata": {},
   "outputs": [],
   "source": [
    "import numpy as np\n",
    "import utils.dataset as dataset\n",
    "import utils.plot_utils as plot_utils\n",
    "# %matplotlib\n",
    "%matplotlib ipympl\n"
   ]
  },
  {
   "cell_type": "code",
   "execution_count": 14,
   "metadata": {},
   "outputs": [],
   "source": [
    "## Create a dataset\n",
    "n = 100\n",
    "xs, ys = dataset.get_beans5(n)\n",
    "\n",
    "# 输入xs是二维向量\n",
    "# print(xs) \n",
    "# print(ys)"
   ]
  },
  {
   "cell_type": "code",
   "execution_count": 15,
   "metadata": {},
   "outputs": [
    {
     "data": {
      "application/vnd.jupyter.widget-view+json": {
       "model_id": "eed5eb8b302941fea2f401796e88eb68",
       "version_major": 2,
       "version_minor": 0
      },
      "text/plain": [
       "Canvas(toolbar=Toolbar(toolitems=[('Home', 'Reset original view', 'home', 'home'), ('Back', 'Back to previous …"
      ]
     },
     "metadata": {},
     "output_type": "display_data"
    }
   ],
   "source": [
    "plot_utils.show_scatter(xs, ys)\n"
   ]
  },
  {
   "cell_type": "code",
   "execution_count": 16,
   "metadata": {},
   "outputs": [
    {
     "data": {
      "application/vnd.jupyter.widget-view+json": {
       "model_id": "150539169a7b4467a575244cd64df893",
       "version_major": 2,
       "version_minor": 0
      },
      "text/plain": [
       "Canvas(toolbar=Toolbar(toolitems=[('Home', 'Reset original view', 'home', 'home'), ('Back', 'Back to previous …"
      ]
     },
     "metadata": {},
     "output_type": "display_data"
    }
   ],
   "source": [
    "\n",
    "w1 = 0.1\n",
    "w2 = 0.1\n",
    "b = 0.1\n",
    "\n",
    "x1s = xs[:, 0]\n",
    "x2s = xs[:, 1]\n",
    "\n",
    "\n",
    "def forward_propgation(x1s, x2s):\n",
    "    z = w1*x1s+w2*x2s+b\n",
    "    a = 1/(1+np.exp(-z))\n",
    "    return a\n",
    "\n",
    "\n",
    "plot_utils.show_scatter_surface(xs, ys, forward_propgation)\n"
   ]
  },
  {
   "cell_type": "code",
   "execution_count": 17,
   "metadata": {},
   "outputs": [
    {
     "data": {
      "application/vnd.jupyter.widget-view+json": {
       "model_id": "435982d2a969478db2fafd9d682674ec",
       "version_major": 2,
       "version_minor": 0
      },
      "text/plain": [
       "Canvas(toolbar=Toolbar(toolitems=[('Home', 'Reset original view', 'home', 'home'), ('Back', 'Back to previous …"
      ]
     },
     "metadata": {},
     "output_type": "display_data"
    }
   ],
   "source": [
    "for _ in range(500):\n",
    "    for i in range(n):\n",
    "        x = xs[i]\n",
    "        y = ys[i]\n",
    "\n",
    "        x1=x[0]\n",
    "        x2=x[1]\n",
    "\n",
    "        # 前向传播\n",
    "        a = forward_propgation(x1, x2)\n",
    "        e = (y-a)**2\n",
    "        # 反向传播\n",
    "        deda = -2*(y-a)\n",
    "        dedz = deda*a*(1-a)\n",
    "        dzdw1 = x1\n",
    "        dzdw2 = x2\n",
    "        dzdb = 1\n",
    "\n",
    "        dedw1 = dedz*dzdw1\n",
    "        dedw2 = dedz*dzdw2\n",
    "        dedb = dedz*dzdb\n",
    "\n",
    "        # 梯度下降\n",
    "\n",
    "        w1 = w1-0.01*dedw1\n",
    "        w2 = w2-0.01*dedw2\n",
    "        b = b-0.01*dedb\n",
    "\n",
    "plot_utils.show_scatter_surface(xs, ys, forward_propgation)\n"
   ]
  }
 ],
 "metadata": {
  "kernelspec": {
   "display_name": "Python 3.9.12 ('ai')",
   "language": "python",
   "name": "python3"
  },
  "language_info": {
   "codemirror_mode": {
    "name": "ipython",
    "version": 3
   },
   "file_extension": ".py",
   "mimetype": "text/x-python",
   "name": "python",
   "nbconvert_exporter": "python",
   "pygments_lexer": "ipython3",
   "version": "3.9.12"
  },
  "orig_nbformat": 4,
  "vscode": {
   "interpreter": {
    "hash": "90c27246f24dc25bb0a65debf84b3e11e0ba57f78c1d72e14334c7952099341b"
   }
  }
 },
 "nbformat": 4,
 "nbformat_minor": 2
}
