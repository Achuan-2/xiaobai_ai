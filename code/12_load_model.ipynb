{
 "cells": [
  {
   "cell_type": "code",
   "execution_count": 23,
   "metadata": {},
   "outputs": [
    {
     "name": "stdout",
     "output_type": "stream",
     "text": [
      "The autoreload extension is already loaded. To reload it, use:\n",
      "  %reload_ext autoreload\n"
     ]
    }
   ],
   "source": [
    "import utils.shopping_data as shopping_data\n",
    "from keras_preprocessing import sequence\n",
    "from keras.models import Sequential\n",
    "from keras.layers import Dense,Embedding,LSTM,Flatten\n",
    "%load_ext autoreload\n",
    "%autoreload 2\n"
   ]
  },
  {
   "cell_type": "markdown",
   "metadata": {},
   "source": [
    "处理爬取的数据，6w条数据，情感标签+文本数据"
   ]
  },
  {
   "cell_type": "code",
   "execution_count": 16,
   "metadata": {},
   "outputs": [
    {
     "name": "stdout",
     "output_type": "stream",
     "text": [
      "总样本数量:16595\n",
      "训练集数量:13276\n",
      "测试集数量:3319\n"
     ]
    }
   ],
   "source": [
    "X_train,y_train,X_test,y_test = shopping_data.load_data(input_file='./input/online_shopping_10_cats.csv')\n",
    "print(f'X_train.shape:,{X_train.shape}')\n",
    "print(f'y_train.shape:,{y_train.shape}')\n",
    "print(f'X_test.shape:,{X_test.shape}')\n",
    "print(f'y_test.shape:,{y_test.shape}')\n",
    "print(X_train[0])\n",
    "print(y_train[0])\n"
   ]
  },
  {
   "cell_type": "markdown",
   "metadata": {},
   "source": [
    "把数据集所有文本进行分词，获得索引词典"
   ]
  },
  {
   "cell_type": "code",
   "execution_count": 21,
   "metadata": {},
   "outputs": [
    {
     "name": "stdout",
     "output_type": "stream",
     "text": [
      "voca:9512\n"
     ]
    }
   ],
   "source": [
    "vocalen, word_index = shopping_data.createWordIndex(X_train, X_test)\n",
    "\"\"\" \n",
    "shopping_data.createWordIndex为自行封装的函数。\n",
    "函数模块内容就是对数据集中所有文本去除标点符号后，使用jieba分词，获得所有词列表，按出现次数倒序排序，然后使用keras分词器Tokenizer来根据顺序从1开始创建词索引。\n",
    "\"\"\"\n"
   ]
  },
  {
   "cell_type": "markdown",
   "metadata": {},
   "source": [
    "获得训练和测试数据的索引表示"
   ]
  },
  {
   "cell_type": "code",
   "execution_count": null,
   "metadata": {},
   "outputs": [],
   "source": [
    "X_train_index = shopping_data.word2Index(X_train, word_index)\n",
    "X_test_index = shopping_data.word2Index(X_test, word_index)\n",
    "\"\"\"\n",
    "\"京东自营服务确实很好，以后会继续购买。\"\n",
    "→\n",
    "[ 58., 299.,  92., 400.,  37.,  39., 157., 192., 367.,  95.】\n",
    "\"\"\"\n"
   ]
  },
  {
   "cell_type": "markdown",
   "metadata": {},
   "source": [
    "把序列按照maxlen进行对齐"
   ]
  },
  {
   "cell_type": "code",
   "execution_count": 24,
   "metadata": {},
   "outputs": [],
   "source": [
    "maxlen = 25\n",
    "X_train_pad = sequence.pad_sequences(X_train_index, maxlen=maxlen)\n",
    "X_test_pad = sequence.pad_sequences(X_test_index, maxlen=maxlen)\n",
    "\"\"\"\n",
    "[ 58., 299.,  92., 400.,  37.,  39., 157., 192., 367.,  95.]\n",
    "→\n",
    "[  0,   0,   0,   0,   0,   0,   0,   0,   0,   0,   0,   0,   0, 0,   0,  58, 299,  92, 400,  37,  39, 157, 192, 367,  95]\n",
    "\"\"\"\n"
   ]
  },
  {
   "cell_type": "markdown",
   "metadata": {},
   "source": [
    "## 载入模型"
   ]
  },
  {
   "cell_type": "code",
   "execution_count": 74,
   "metadata": {},
   "outputs": [],
   "source": [
    "from keras.models import load_model\n",
    "model = load_model('./model/12_model.h5')"
   ]
  },
  {
   "cell_type": "code",
   "execution_count": 75,
   "metadata": {},
   "outputs": [
    {
     "name": "stdout",
     "output_type": "stream",
     "text": [
      "104/104 [==============================] - 1s 5ms/step - loss: 2.3973 - accuracy: 0.8569\n"
     ]
    },
    {
     "data": {
      "text/plain": [
       "[2.3972651958465576, 0.8568845987319946]"
      ]
     },
     "execution_count": 75,
     "metadata": {},
     "output_type": "execute_result"
    }
   ],
   "source": [
    "model.evaluate(X_test_pad,y_test)"
   ]
  },
  {
   "cell_type": "code",
   "execution_count": 76,
   "metadata": {},
   "outputs": [
    {
     "name": "stdout",
     "output_type": "stream",
     "text": [
      "104/104 [==============================] - 0s 4ms/step\n",
      "[0.0000000e+00 1.0000000e+00 1.4122749e-18 ... 1.0000000e+00 6.0411440e-19\n",
      " 5.7326988e-09]\n"
     ]
    }
   ],
   "source": [
    "y_pre=model.predict(X_test_pad)\n",
    "y_pre=y_pre.reshape(-1)\n",
    "print(y_pre)"
   ]
  }
 ],
 "metadata": {
  "kernelspec": {
   "display_name": "Python 3.9.12 ('ai')",
   "language": "python",
   "name": "python3"
  },
  "language_info": {
   "codemirror_mode": {
    "name": "ipython",
    "version": 3
   },
   "file_extension": ".py",
   "mimetype": "text/x-python",
   "name": "python",
   "nbconvert_exporter": "python",
   "pygments_lexer": "ipython3",
   "version": "3.9.12"
  },
  "orig_nbformat": 4,
  "vscode": {
   "interpreter": {
    "hash": "90c27246f24dc25bb0a65debf84b3e11e0ba57f78c1d72e14334c7952099341b"
   }
  }
 },
 "nbformat": 4,
 "nbformat_minor": 2
}
